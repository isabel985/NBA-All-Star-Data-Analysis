{
 "cells": [
  {
   "cell_type": "markdown",
   "metadata": {},
   "source": [
    "# NBA All-Star Weekend Challenge\n",
    "\n",
    "Your task...answer the following questions given the dataset given about the NBA All-Star Game from the year 2000 - 2016\n",
    "\n",
    "Become more familiar with the dataset <a href=\"https://www.kaggle.com/fmejia21/nba-all-star-game-20002016\">here</a>\n",
    "\n",
    "Once completed, commit this notebook to github and submit the link to the google classroom assignment.\n",
    "\n",
    "<a href=\"https://classroom.google.com/u/2/c/NDc4MzEzMjI5Nzla/a/NTE3OTYxNzM2OTNa/details\">Google Classroom</a>"
   ]
  },
  {
   "cell_type": "markdown",
   "metadata": {},
   "source": [
    "### Retrieve Data"
   ]
  },
  {
   "cell_type": "code",
   "execution_count": 1,
   "metadata": {},
   "outputs": [],
   "source": [
    "import pandas as pd\n",
    "import numpy as np\n",
    "import matplotlib.pyplot as plt"
   ]
  },
  {
   "cell_type": "code",
   "execution_count": 2,
   "metadata": {},
   "outputs": [],
   "source": [
    "df = pd.read_csv('./NBA All Stars 2000-2016 - Sheet1.csv')"
   ]
  },
  {
   "cell_type": "code",
   "execution_count": 3,
   "metadata": {},
   "outputs": [
    {
     "data": {
      "text/html": [
       "<div>\n",
       "<style scoped>\n",
       "    .dataframe tbody tr th:only-of-type {\n",
       "        vertical-align: middle;\n",
       "    }\n",
       "\n",
       "    .dataframe tbody tr th {\n",
       "        vertical-align: top;\n",
       "    }\n",
       "\n",
       "    .dataframe thead th {\n",
       "        text-align: right;\n",
       "    }\n",
       "</style>\n",
       "<table border=\"1\" class=\"dataframe\">\n",
       "  <thead>\n",
       "    <tr style=\"text-align: right;\">\n",
       "      <th></th>\n",
       "      <th>Year</th>\n",
       "      <th>Player</th>\n",
       "      <th>Pos</th>\n",
       "      <th>HT</th>\n",
       "      <th>WT</th>\n",
       "      <th>Team</th>\n",
       "      <th>Selection Type</th>\n",
       "      <th>NBA Draft Status</th>\n",
       "      <th>Nationality</th>\n",
       "    </tr>\n",
       "  </thead>\n",
       "  <tbody>\n",
       "    <tr>\n",
       "      <th>0</th>\n",
       "      <td>2016</td>\n",
       "      <td>Stephen Curry</td>\n",
       "      <td>G</td>\n",
       "      <td>6-3</td>\n",
       "      <td>190</td>\n",
       "      <td>Golden State Warriors</td>\n",
       "      <td>Western All-Star Fan Vote Selection</td>\n",
       "      <td>2009 Rnd 1 Pick 7</td>\n",
       "      <td>United States</td>\n",
       "    </tr>\n",
       "    <tr>\n",
       "      <th>1</th>\n",
       "      <td>2016</td>\n",
       "      <td>James Harden</td>\n",
       "      <td>SG</td>\n",
       "      <td>6-5</td>\n",
       "      <td>220</td>\n",
       "      <td>Houston Rockets</td>\n",
       "      <td>Western All-Star Fan Vote Selection</td>\n",
       "      <td>2009 Rnd 1 Pick 3</td>\n",
       "      <td>United States</td>\n",
       "    </tr>\n",
       "    <tr>\n",
       "      <th>2</th>\n",
       "      <td>2016</td>\n",
       "      <td>Kevin Durant</td>\n",
       "      <td>SF</td>\n",
       "      <td>6-9</td>\n",
       "      <td>240</td>\n",
       "      <td>Golden State Warriors</td>\n",
       "      <td>Western All-Star Fan Vote Selection</td>\n",
       "      <td>2007 Rnd 1 Pick 2</td>\n",
       "      <td>United States</td>\n",
       "    </tr>\n",
       "    <tr>\n",
       "      <th>3</th>\n",
       "      <td>2016</td>\n",
       "      <td>Kawhi Leonard</td>\n",
       "      <td>F</td>\n",
       "      <td>6-7</td>\n",
       "      <td>230</td>\n",
       "      <td>San Antonio Spurs</td>\n",
       "      <td>Western All-Star Fan Vote Selection</td>\n",
       "      <td>2011 Rnd 1 Pick 15</td>\n",
       "      <td>United States</td>\n",
       "    </tr>\n",
       "    <tr>\n",
       "      <th>4</th>\n",
       "      <td>2016</td>\n",
       "      <td>Anthony Davis</td>\n",
       "      <td>PF</td>\n",
       "      <td>6-11</td>\n",
       "      <td>253</td>\n",
       "      <td>New Orleans Pelicans</td>\n",
       "      <td>Western All-Star Fan Vote Selection</td>\n",
       "      <td>2012 Rnd 1 Pick 1</td>\n",
       "      <td>United States</td>\n",
       "    </tr>\n",
       "  </tbody>\n",
       "</table>\n",
       "</div>"
      ],
      "text/plain": [
       "   Year         Player Pos    HT   WT                   Team  \\\n",
       "0  2016  Stephen Curry   G   6-3  190  Golden State Warriors   \n",
       "1  2016   James Harden  SG   6-5  220        Houston Rockets   \n",
       "2  2016   Kevin Durant  SF   6-9  240  Golden State Warriors   \n",
       "3  2016  Kawhi Leonard   F   6-7  230      San Antonio Spurs   \n",
       "4  2016  Anthony Davis  PF  6-11  253   New Orleans Pelicans   \n",
       "\n",
       "                        Selection Type    NBA Draft Status    Nationality  \n",
       "0  Western All-Star Fan Vote Selection   2009 Rnd 1 Pick 7  United States  \n",
       "1  Western All-Star Fan Vote Selection   2009 Rnd 1 Pick 3  United States  \n",
       "2  Western All-Star Fan Vote Selection   2007 Rnd 1 Pick 2  United States  \n",
       "3  Western All-Star Fan Vote Selection  2011 Rnd 1 Pick 15  United States  \n",
       "4  Western All-Star Fan Vote Selection   2012 Rnd 1 Pick 1  United States  "
      ]
     },
     "execution_count": 3,
     "metadata": {},
     "output_type": "execute_result"
    }
   ],
   "source": [
    "df.head()"
   ]
  },
  {
   "cell_type": "markdown",
   "metadata": {},
   "source": [
    "### Clean Data"
   ]
  },
  {
   "cell_type": "code",
   "execution_count": 4,
   "metadata": {},
   "outputs": [
    {
     "data": {
      "text/plain": [
       "Year                 int64\n",
       "Player              object\n",
       "Pos                 object\n",
       "HT                  object\n",
       "WT                   int64\n",
       "Team                object\n",
       "Selection Type      object\n",
       "NBA Draft Status    object\n",
       "Nationality         object\n",
       "dtype: object"
      ]
     },
     "execution_count": 4,
     "metadata": {},
     "output_type": "execute_result"
    }
   ],
   "source": [
    "df.dtypes"
   ]
  },
  {
   "cell_type": "markdown",
   "metadata": {},
   "source": [
    "#### Make sure there are no null values"
   ]
  },
  {
   "cell_type": "code",
   "execution_count": 5,
   "metadata": {
    "scrolled": true
   },
   "outputs": [
    {
     "data": {
      "text/plain": [
       "Year                0\n",
       "Player              0\n",
       "Pos                 0\n",
       "HT                  0\n",
       "WT                  0\n",
       "Team                0\n",
       "Selection Type      0\n",
       "NBA Draft Status    0\n",
       "Nationality         0\n",
       "dtype: int64"
      ]
     },
     "execution_count": 5,
     "metadata": {},
     "output_type": "execute_result"
    }
   ],
   "source": [
    "df.isna().sum()"
   ]
  },
  {
   "cell_type": "markdown",
   "metadata": {},
   "source": [
    "#### Remove space from column headers"
   ]
  },
  {
   "cell_type": "code",
   "execution_count": 6,
   "metadata": {},
   "outputs": [
    {
     "data": {
      "text/plain": [
       "Index(['year', 'player', 'pos', 'ht', 'wt', 'team', 'selection_type',\n",
       "       'nba_draft_status', 'nationality'],\n",
       "      dtype='object')"
      ]
     },
     "execution_count": 6,
     "metadata": {},
     "output_type": "execute_result"
    }
   ],
   "source": [
    "df.rename(columns=lambda x:x.replace(' ', '_').lower(), inplace=True)\n",
    "df.columns"
   ]
  },
  {
   "cell_type": "code",
   "execution_count": 7,
   "metadata": {
    "scrolled": true
   },
   "outputs": [
    {
     "data": {
      "text/html": [
       "<div>\n",
       "<style scoped>\n",
       "    .dataframe tbody tr th:only-of-type {\n",
       "        vertical-align: middle;\n",
       "    }\n",
       "\n",
       "    .dataframe tbody tr th {\n",
       "        vertical-align: top;\n",
       "    }\n",
       "\n",
       "    .dataframe thead th {\n",
       "        text-align: right;\n",
       "    }\n",
       "</style>\n",
       "<table border=\"1\" class=\"dataframe\">\n",
       "  <thead>\n",
       "    <tr style=\"text-align: right;\">\n",
       "      <th></th>\n",
       "      <th>year</th>\n",
       "      <th>player</th>\n",
       "      <th>pos</th>\n",
       "      <th>ht</th>\n",
       "      <th>wt</th>\n",
       "      <th>team</th>\n",
       "      <th>selection_type</th>\n",
       "      <th>nba_draft_status</th>\n",
       "      <th>nationality</th>\n",
       "    </tr>\n",
       "  </thead>\n",
       "  <tbody>\n",
       "    <tr>\n",
       "      <th>0</th>\n",
       "      <td>2016</td>\n",
       "      <td>Stephen Curry</td>\n",
       "      <td>G</td>\n",
       "      <td>6-3</td>\n",
       "      <td>190</td>\n",
       "      <td>Golden State Warriors</td>\n",
       "      <td>Western All-Star Fan Vote Selection</td>\n",
       "      <td>2009 Rnd 1 Pick 7</td>\n",
       "      <td>United States</td>\n",
       "    </tr>\n",
       "    <tr>\n",
       "      <th>1</th>\n",
       "      <td>2016</td>\n",
       "      <td>James Harden</td>\n",
       "      <td>SG</td>\n",
       "      <td>6-5</td>\n",
       "      <td>220</td>\n",
       "      <td>Houston Rockets</td>\n",
       "      <td>Western All-Star Fan Vote Selection</td>\n",
       "      <td>2009 Rnd 1 Pick 3</td>\n",
       "      <td>United States</td>\n",
       "    </tr>\n",
       "    <tr>\n",
       "      <th>2</th>\n",
       "      <td>2016</td>\n",
       "      <td>Kevin Durant</td>\n",
       "      <td>SF</td>\n",
       "      <td>6-9</td>\n",
       "      <td>240</td>\n",
       "      <td>Golden State Warriors</td>\n",
       "      <td>Western All-Star Fan Vote Selection</td>\n",
       "      <td>2007 Rnd 1 Pick 2</td>\n",
       "      <td>United States</td>\n",
       "    </tr>\n",
       "    <tr>\n",
       "      <th>3</th>\n",
       "      <td>2016</td>\n",
       "      <td>Kawhi Leonard</td>\n",
       "      <td>F</td>\n",
       "      <td>6-7</td>\n",
       "      <td>230</td>\n",
       "      <td>San Antonio Spurs</td>\n",
       "      <td>Western All-Star Fan Vote Selection</td>\n",
       "      <td>2011 Rnd 1 Pick 15</td>\n",
       "      <td>United States</td>\n",
       "    </tr>\n",
       "    <tr>\n",
       "      <th>4</th>\n",
       "      <td>2016</td>\n",
       "      <td>Anthony Davis</td>\n",
       "      <td>PF</td>\n",
       "      <td>6-11</td>\n",
       "      <td>253</td>\n",
       "      <td>New Orleans Pelicans</td>\n",
       "      <td>Western All-Star Fan Vote Selection</td>\n",
       "      <td>2012 Rnd 1 Pick 1</td>\n",
       "      <td>United States</td>\n",
       "    </tr>\n",
       "    <tr>\n",
       "      <th>...</th>\n",
       "      <td>...</td>\n",
       "      <td>...</td>\n",
       "      <td>...</td>\n",
       "      <td>...</td>\n",
       "      <td>...</td>\n",
       "      <td>...</td>\n",
       "      <td>...</td>\n",
       "      <td>...</td>\n",
       "      <td>...</td>\n",
       "    </tr>\n",
       "    <tr>\n",
       "      <th>434</th>\n",
       "      <td>2000</td>\n",
       "      <td>Antonio McDyess</td>\n",
       "      <td>F</td>\n",
       "      <td>6-9</td>\n",
       "      <td>245</td>\n",
       "      <td>Denver Nuggets</td>\n",
       "      <td>Western All-Star Coaches Selection</td>\n",
       "      <td>1995 Rnd 1 Pick 2</td>\n",
       "      <td>United States</td>\n",
       "    </tr>\n",
       "    <tr>\n",
       "      <th>435</th>\n",
       "      <td>2000</td>\n",
       "      <td>Gary Payton</td>\n",
       "      <td>G</td>\n",
       "      <td>6-4</td>\n",
       "      <td>180</td>\n",
       "      <td>Seattle SuperSonics</td>\n",
       "      <td>Western All-Star Coaches Selection</td>\n",
       "      <td>1990 Rnd 1 Pick 2</td>\n",
       "      <td>United States</td>\n",
       "    </tr>\n",
       "    <tr>\n",
       "      <th>436</th>\n",
       "      <td>2000</td>\n",
       "      <td>Rasheed Wallace</td>\n",
       "      <td>FC</td>\n",
       "      <td>6-11</td>\n",
       "      <td>230</td>\n",
       "      <td>Portland Trail Blazers</td>\n",
       "      <td>Western All-Star Coaches Selection</td>\n",
       "      <td>1995 Rnd 1 Pick 4</td>\n",
       "      <td>United States</td>\n",
       "    </tr>\n",
       "    <tr>\n",
       "      <th>437</th>\n",
       "      <td>2000</td>\n",
       "      <td>David Robinson</td>\n",
       "      <td>C</td>\n",
       "      <td>7-1</td>\n",
       "      <td>250</td>\n",
       "      <td>San Antonio Spurs</td>\n",
       "      <td>Western All-Star Coaches Selection</td>\n",
       "      <td>1987 Rnd 1 Pick 1</td>\n",
       "      <td>United States</td>\n",
       "    </tr>\n",
       "    <tr>\n",
       "      <th>438</th>\n",
       "      <td>2000</td>\n",
       "      <td>Vlade Divac</td>\n",
       "      <td>C</td>\n",
       "      <td>7-1</td>\n",
       "      <td>260</td>\n",
       "      <td>Sacramento Kings</td>\n",
       "      <td>Western All-Star Replacement Selection</td>\n",
       "      <td>1989 Rnd 1 Pick 26</td>\n",
       "      <td>Serbia</td>\n",
       "    </tr>\n",
       "  </tbody>\n",
       "</table>\n",
       "<p>439 rows × 9 columns</p>\n",
       "</div>"
      ],
      "text/plain": [
       "     year           player pos    ht   wt                    team  \\\n",
       "0    2016    Stephen Curry   G   6-3  190   Golden State Warriors   \n",
       "1    2016     James Harden  SG   6-5  220         Houston Rockets   \n",
       "2    2016     Kevin Durant  SF   6-9  240   Golden State Warriors   \n",
       "3    2016    Kawhi Leonard   F   6-7  230       San Antonio Spurs   \n",
       "4    2016    Anthony Davis  PF  6-11  253    New Orleans Pelicans   \n",
       "..    ...              ...  ..   ...  ...                     ...   \n",
       "434  2000  Antonio McDyess   F   6-9  245          Denver Nuggets   \n",
       "435  2000      Gary Payton   G   6-4  180     Seattle SuperSonics   \n",
       "436  2000  Rasheed Wallace  FC  6-11  230  Portland Trail Blazers   \n",
       "437  2000   David Robinson   C   7-1  250       San Antonio Spurs   \n",
       "438  2000      Vlade Divac   C   7-1  260        Sacramento Kings   \n",
       "\n",
       "                             selection_type    nba_draft_status    nationality  \n",
       "0       Western All-Star Fan Vote Selection   2009 Rnd 1 Pick 7  United States  \n",
       "1       Western All-Star Fan Vote Selection   2009 Rnd 1 Pick 3  United States  \n",
       "2       Western All-Star Fan Vote Selection   2007 Rnd 1 Pick 2  United States  \n",
       "3       Western All-Star Fan Vote Selection  2011 Rnd 1 Pick 15  United States  \n",
       "4       Western All-Star Fan Vote Selection   2012 Rnd 1 Pick 1  United States  \n",
       "..                                      ...                 ...            ...  \n",
       "434      Western All-Star Coaches Selection   1995 Rnd 1 Pick 2  United States  \n",
       "435      Western All-Star Coaches Selection   1990 Rnd 1 Pick 2  United States  \n",
       "436      Western All-Star Coaches Selection   1995 Rnd 1 Pick 4  United States  \n",
       "437      Western All-Star Coaches Selection   1987 Rnd 1 Pick 1  United States  \n",
       "438  Western All-Star Replacement Selection  1989 Rnd 1 Pick 26         Serbia  \n",
       "\n",
       "[439 rows x 9 columns]"
      ]
     },
     "execution_count": 7,
     "metadata": {},
     "output_type": "execute_result"
    }
   ],
   "source": [
    "df.to_csv('df_v2.csv', index=False)\n",
    "df = pd.read_csv('df_v2.csv')\n",
    "df"
   ]
  },
  {
   "cell_type": "markdown",
   "metadata": {},
   "source": [
    "# What is the average weight of all players who played during this time?"
   ]
  },
  {
   "cell_type": "markdown",
   "metadata": {},
   "source": [
    "#### Change the copy of the average to a float and round to 2 decimal places"
   ]
  },
  {
   "cell_type": "code",
   "execution_count": 8,
   "metadata": {},
   "outputs": [
    {
     "data": {
      "text/plain": [
       "228.75"
      ]
     },
     "execution_count": 8,
     "metadata": {},
     "output_type": "execute_result"
    }
   ],
   "source": [
    "avg_weight = round(float(df.wt.mean()), 2)\n",
    "avg_weight"
   ]
  },
  {
   "cell_type": "markdown",
   "metadata": {},
   "source": [
    "# What team is represented the most during this time?"
   ]
  },
  {
   "cell_type": "code",
   "execution_count": 9,
   "metadata": {},
   "outputs": [
    {
     "name": "stdout",
     "output_type": "stream",
     "text": [
      "{'Golden State Warriors': 11, 'Houston Rockets': 20, 'San Antonio Spurs': 25, 'New Orleans Pelicans': 4, 'Oklahoma City Thunder': 13, 'Sacramento Kings': 11, 'Memphis Grizzlies': 6, 'Los Angeles Clippers': 14, 'Utah Jazz': 9, 'Cleveland Cavaliers': 17, 'Toronto Raptors': 16, 'Milwaukee Bucks': 5, 'Chicago Bulls': 12, 'Boston Celtics': 26, 'Washington Wizards': 13, 'Indiana Pacers': 15, 'Charlotte Hornets': 2, 'Atlanta Hawks': 18, 'Miami Heat': 28, 'New York Knicks': 10, 'Detroit Pistons': 15, 'Los Angeles Lakers': 25, 'Portland Trail Blazers': 10, 'Dallas Mavericks': 18, 'Minnesota Timberwolves': 12, 'Brooklyn Nets': 2, 'Philadelphia Sixers': 11, 'Orlando Magic': 14, 'New Jersey Nets': 12, 'Phoenix Suns': 18, 'Denver Nuggets': 9, 'New Orleans Hornets': 9, 'Charlotte Bobcats': 1, 'Seattle SuperSonics': 8}\n",
      "\n",
      "\n",
      "The team most represented at the NBA All-Star Games from 2000 to 2016 was the Miami Heat.\n"
     ]
    }
   ],
   "source": [
    "counted_teams = {}\n",
    "for team in list(df.team):\n",
    "    counted_teams[team] = list(df.team).count(team)\n",
    "    \n",
    "print(counted_teams)\n",
    "max_key = max(counted_teams, key=counted_teams.get)\n",
    "print(f'\\n\\nThe team most represented at the NBA All-Star Games from 2000 to 2016 was the {max_key}.')"
   ]
  },
  {
   "cell_type": "markdown",
   "metadata": {},
   "source": [
    "# What draft class is represeted the most during this time?"
   ]
  },
  {
   "cell_type": "code",
   "execution_count": 10,
   "metadata": {
    "scrolled": true
   },
   "outputs": [
    {
     "name": "stdout",
     "output_type": "stream",
     "text": [
      "{'2009 Rnd 1': 19, '2007 Rnd 1': 14, '2011 Rnd 1': 13, '2012 Rnd 1': 7, '2008 Rnd 1': 16, '2010 Rnd 1': 12, '2012 Rnd 2': 2, '2007 Rnd 2': 3, '2008 Rnd 2': 1, '2003 Rnd 1': 49, '2013 Rnd 1': 1, '2011 Rnd 2': 2, '2006 Rnd 1': 15, '2006 Rnd 2': 4, '2001 Rnd 1': 23, '1996 Rnd 1': 59, '2005 Rnd 1': 16, '2003 Rnd 2': 2, '1997 Rnd 1': 25, '1998 Rnd 1': 32, '2004 Rnd 1': 13, '1995 Rnd 1': 19, '2002 Rnd 1': 16, '1999 Rnd 2': 2, '1994 Rnd 1': 10, '1992 Rnd 1': 11, '1998 Rnd 2': 2, '2002 Rnd 2': 2, '1999 Rnd 1': 17, '2001 Rnd 2': 4, '1996 NBA Draft, Undrafted': 4, '1998 NBA Draft, Undrafted': 2, '1993 Rnd 1': 6, '2000 Rnd 2': 1, '2000 Rnd 1': 2, '1984 Rnd 1': 2, '1990 Rnd 1': 3, '1991 Rnd 1': 2, '1985 Rnd 1': 2, '1990 Rnd 2': 1, '1988 Rnd 3': 1, '1987 Rnd 1': 1, '1989 Rnd 1': 1}\n",
      "\n",
      "\n",
      " The class most represented at the NBA All-Star games from 2000 to 2016 was the 1996 Rnd 1.\n"
     ]
    }
   ],
   "source": [
    "draft_class = []\n",
    "counted_class = {}\n",
    "\n",
    "for draft in df.nba_draft_status:\n",
    "    # slice Pick Number from NBA Draft Status column\n",
    "    draft_class.append(draft.split(\" Pick\")[0])\n",
    "    \n",
    "    # iterate over the new list\n",
    "    for dclass in draft_class:\n",
    "        counted_class[dclass] = draft_class.count(dclass)\n",
    "    \n",
    "print(counted_class)\n",
    "max_key = max(counted_class, key=counted_class.get)\n",
    "print(f'\\n\\n The class most represented at the NBA All-Star games from 2000 to 2016 was the {max_key}.')"
   ]
  },
  {
   "cell_type": "code",
   "execution_count": 11,
   "metadata": {},
   "outputs": [
    {
     "data": {
      "text/html": [
       "<div>\n",
       "<style scoped>\n",
       "    .dataframe tbody tr th:only-of-type {\n",
       "        vertical-align: middle;\n",
       "    }\n",
       "\n",
       "    .dataframe tbody tr th {\n",
       "        vertical-align: top;\n",
       "    }\n",
       "\n",
       "    .dataframe thead th {\n",
       "        text-align: right;\n",
       "    }\n",
       "</style>\n",
       "<table border=\"1\" class=\"dataframe\">\n",
       "  <thead>\n",
       "    <tr style=\"text-align: right;\">\n",
       "      <th></th>\n",
       "      <th>year</th>\n",
       "      <th>player</th>\n",
       "      <th>pos</th>\n",
       "      <th>ht</th>\n",
       "      <th>wt</th>\n",
       "      <th>team</th>\n",
       "      <th>selection_type</th>\n",
       "      <th>nba_draft_status</th>\n",
       "      <th>nationality</th>\n",
       "    </tr>\n",
       "  </thead>\n",
       "  <tbody>\n",
       "    <tr>\n",
       "      <th>309</th>\n",
       "      <td>2005</td>\n",
       "      <td>Ben Wallace</td>\n",
       "      <td>FC</td>\n",
       "      <td>6-9</td>\n",
       "      <td>240</td>\n",
       "      <td>Detroit Pistons</td>\n",
       "      <td>Eastern All-Star Coaches Selection</td>\n",
       "      <td>1996 NBA Draft, Undrafted</td>\n",
       "      <td>United States</td>\n",
       "    </tr>\n",
       "    <tr>\n",
       "      <th>334</th>\n",
       "      <td>2004</td>\n",
       "      <td>Ben Wallace</td>\n",
       "      <td>FC</td>\n",
       "      <td>6-9</td>\n",
       "      <td>240</td>\n",
       "      <td>Detroit Pistons</td>\n",
       "      <td>Eastern All-Star Coaches Selection</td>\n",
       "      <td>1996 NBA Draft, Undrafted</td>\n",
       "      <td>United States</td>\n",
       "    </tr>\n",
       "    <tr>\n",
       "      <th>346</th>\n",
       "      <td>2003</td>\n",
       "      <td>Brad Miller</td>\n",
       "      <td>C</td>\n",
       "      <td>7-0</td>\n",
       "      <td>261</td>\n",
       "      <td>Sacramento Kings</td>\n",
       "      <td>Western All-Star Coaches Selection</td>\n",
       "      <td>1998 NBA Draft, Undrafted</td>\n",
       "      <td>United States</td>\n",
       "    </tr>\n",
       "    <tr>\n",
       "      <th>348</th>\n",
       "      <td>2003</td>\n",
       "      <td>Ben Wallace</td>\n",
       "      <td>FC</td>\n",
       "      <td>6-9</td>\n",
       "      <td>240</td>\n",
       "      <td>Detroit Pistons</td>\n",
       "      <td>Eastern All-Star Fan Vote Selection</td>\n",
       "      <td>1996 NBA Draft, Undrafted</td>\n",
       "      <td>United States</td>\n",
       "    </tr>\n",
       "    <tr>\n",
       "      <th>360</th>\n",
       "      <td>2002</td>\n",
       "      <td>Ben Wallace</td>\n",
       "      <td>FC</td>\n",
       "      <td>6-9</td>\n",
       "      <td>240</td>\n",
       "      <td>Detroit Pistons</td>\n",
       "      <td>Eastern All-Star Fan Vote Selection</td>\n",
       "      <td>1996 NBA Draft, Undrafted</td>\n",
       "      <td>United States</td>\n",
       "    </tr>\n",
       "    <tr>\n",
       "      <th>371</th>\n",
       "      <td>2002</td>\n",
       "      <td>Brad Miller</td>\n",
       "      <td>C</td>\n",
       "      <td>7-0</td>\n",
       "      <td>261</td>\n",
       "      <td>Indiana Pacers</td>\n",
       "      <td>Eastern All-Star Coaches Selection</td>\n",
       "      <td>1998 NBA Draft, Undrafted</td>\n",
       "      <td>United States</td>\n",
       "    </tr>\n",
       "  </tbody>\n",
       "</table>\n",
       "</div>"
      ],
      "text/plain": [
       "     year       player pos   ht   wt              team  \\\n",
       "309  2005  Ben Wallace  FC  6-9  240   Detroit Pistons   \n",
       "334  2004  Ben Wallace  FC  6-9  240   Detroit Pistons   \n",
       "346  2003  Brad Miller   C  7-0  261  Sacramento Kings   \n",
       "348  2003  Ben Wallace  FC  6-9  240   Detroit Pistons   \n",
       "360  2002  Ben Wallace  FC  6-9  240   Detroit Pistons   \n",
       "371  2002  Brad Miller   C  7-0  261    Indiana Pacers   \n",
       "\n",
       "                          selection_type           nba_draft_status  \\\n",
       "309   Eastern All-Star Coaches Selection  1996 NBA Draft, Undrafted   \n",
       "334   Eastern All-Star Coaches Selection  1996 NBA Draft, Undrafted   \n",
       "346   Western All-Star Coaches Selection  1998 NBA Draft, Undrafted   \n",
       "348  Eastern All-Star Fan Vote Selection  1996 NBA Draft, Undrafted   \n",
       "360  Eastern All-Star Fan Vote Selection  1996 NBA Draft, Undrafted   \n",
       "371   Eastern All-Star Coaches Selection  1998 NBA Draft, Undrafted   \n",
       "\n",
       "       nationality  \n",
       "309  United States  \n",
       "334  United States  \n",
       "346  United States  \n",
       "348  United States  \n",
       "360  United States  \n",
       "371  United States  "
      ]
     },
     "execution_count": 11,
     "metadata": {},
     "output_type": "execute_result"
    }
   ],
   "source": [
    "# Noticed a discrepancy with the nba_draft_class clumns but decided to leave it\n",
    "\n",
    "df[~df.nba_draft_status.str.contains('Pick')]"
   ]
  },
  {
   "cell_type": "markdown",
   "metadata": {},
   "source": [
    "# Are foriegn players more prevalent in the All-Star Game during this time?"
   ]
  },
  {
   "cell_type": "code",
   "execution_count": 12,
   "metadata": {
    "scrolled": true
   },
   "outputs": [],
   "source": [
    "usa_players = df.nationality.str.contains('United States').count()"
   ]
  },
  {
   "cell_type": "code",
   "execution_count": 13,
   "metadata": {
    "scrolled": true
   },
   "outputs": [],
   "source": [
    "foreign_players = len(df[~df.nationality.str.contains('United States')])"
   ]
  },
  {
   "cell_type": "code",
   "execution_count": 14,
   "metadata": {},
   "outputs": [
    {
     "data": {
      "image/png": "[encoded data removed]",
      "text/plain": [
       "<Figure size 648x432 with 1 Axes>"
      ]
     },
     "metadata": {
      "needs_background": "light"
     },
     "output_type": "display_data"
    }
   ],
   "source": [
    "plt.subplots(figsize=(9,6))\n",
    "plt.bar(['USA Players', 'Non-USA Players'], [usa_players, foreign_players], color=['red', 'blue']);"
   ]
  },
  {
   "cell_type": "markdown",
   "metadata": {},
   "source": [
    "#### Clean nationality column"
   ]
  },
  {
   "cell_type": "code",
   "execution_count": 15,
   "metadata": {
    "scrolled": true
   },
   "outputs": [
    {
     "data": {
      "text/plain": [
       "United States                        365\n",
       "Germany                               13\n",
       "Spain                                  9\n",
       "Canada\\nSouth Africa                   8\n",
       "China                                  8\n",
       "France                                 6\n",
       "United States\\nAustralia               4\n",
       "Dominican Republic\\nUnited States      4\n",
       "Serbia\\nGreece                         3\n",
       "Democratic Republic of the Congo       2\n",
       "Argentina                              2\n",
       "Germany\\nUnited States                 2\n",
       "Lithuania                              2\n",
       "England\\nSouth Sudan                   2\n",
       "France\\nUnited States                  2\n",
       "United States\\nSpain                   1\n",
       "Canada                                 1\n",
       "Serbia                                 1\n",
       "Greece\\nNigeria                        1\n",
       "Turkey                                 1\n",
       "United States\\nGermany                 1\n",
       "Russia                                 1\n",
       "Name: nationality, dtype: int64"
      ]
     },
     "execution_count": 15,
     "metadata": {},
     "output_type": "execute_result"
    }
   ],
   "source": [
    "df.nationality.value_counts()"
   ]
  },
  {
   "cell_type": "code",
   "execution_count": 16,
   "metadata": {},
   "outputs": [],
   "source": [
    "df1 = pd.DataFrame(columns=df.columns)\n",
    "\n",
    "for record in df.index:\n",
    "    r = df.iloc[record]\n",
    "    new_record = pd.DataFrame([\n",
    "        [r.year, r.player, r.pos, r.ht, r.wt, r.team, r.selection_type,\n",
    "       r.nba_draft_status, r.nationality.split('\\n')]\n",
    "    ], columns=df.columns)\n",
    "    df1 = df1.append(new_record)\n",
    "\n",
    "df1.reset_index(inplace=True)"
   ]
  },
  {
   "cell_type": "code",
   "execution_count": 17,
   "metadata": {},
   "outputs": [],
   "source": [
    "df1.drop(['index'], axis=1, inplace=True)"
   ]
  },
  {
   "cell_type": "code",
   "execution_count": 18,
   "metadata": {
    "scrolled": false
   },
   "outputs": [
    {
     "data": {
      "text/plain": [
       "[United States]                        365\n",
       "[Germany]                               13\n",
       "[Spain]                                  9\n",
       "[China]                                  8\n",
       "[Canada, South Africa]                   8\n",
       "[France]                                 6\n",
       "[United States, Australia]               4\n",
       "[Dominican Republic, United States]      4\n",
       "[Serbia, Greece]                         3\n",
       "[Lithuania]                              2\n",
       "[France, United States]                  2\n",
       "[Germany, United States]                 2\n",
       "[Argentina]                              2\n",
       "[England, South Sudan]                   2\n",
       "[Democratic Republic of the Congo]       2\n",
       "[Russia]                                 1\n",
       "[Turkey]                                 1\n",
       "[Greece, Nigeria]                        1\n",
       "[United States, Germany]                 1\n",
       "[Serbia]                                 1\n",
       "[United States, Spain]                   1\n",
       "[Canada]                                 1\n",
       "Name: nationality, dtype: int64"
      ]
     },
     "execution_count": 18,
     "metadata": {},
     "output_type": "execute_result"
    }
   ],
   "source": [
    "df1.nationality.value_counts()"
   ]
  },
  {
   "cell_type": "code",
   "execution_count": 19,
   "metadata": {},
   "outputs": [
    {
     "data": {
      "text/html": [
       "<div>\n",
       "<style scoped>\n",
       "    .dataframe tbody tr th:only-of-type {\n",
       "        vertical-align: middle;\n",
       "    }\n",
       "\n",
       "    .dataframe tbody tr th {\n",
       "        vertical-align: top;\n",
       "    }\n",
       "\n",
       "    .dataframe thead th {\n",
       "        text-align: right;\n",
       "    }\n",
       "</style>\n",
       "<table border=\"1\" class=\"dataframe\">\n",
       "  <thead>\n",
       "    <tr style=\"text-align: right;\">\n",
       "      <th></th>\n",
       "      <th>year</th>\n",
       "      <th>player</th>\n",
       "      <th>pos</th>\n",
       "      <th>ht</th>\n",
       "      <th>wt</th>\n",
       "      <th>team</th>\n",
       "      <th>selection_type</th>\n",
       "      <th>nba_draft_status</th>\n",
       "      <th>nationality</th>\n",
       "    </tr>\n",
       "  </thead>\n",
       "  <tbody>\n",
       "    <tr>\n",
       "      <th>0</th>\n",
       "      <td>2016</td>\n",
       "      <td>Stephen Curry</td>\n",
       "      <td>G</td>\n",
       "      <td>6-3</td>\n",
       "      <td>190</td>\n",
       "      <td>Golden State Warriors</td>\n",
       "      <td>Western All-Star Fan Vote Selection</td>\n",
       "      <td>2009 Rnd 1 Pick 7</td>\n",
       "      <td>[United States]</td>\n",
       "    </tr>\n",
       "    <tr>\n",
       "      <th>1</th>\n",
       "      <td>2016</td>\n",
       "      <td>James Harden</td>\n",
       "      <td>SG</td>\n",
       "      <td>6-5</td>\n",
       "      <td>220</td>\n",
       "      <td>Houston Rockets</td>\n",
       "      <td>Western All-Star Fan Vote Selection</td>\n",
       "      <td>2009 Rnd 1 Pick 3</td>\n",
       "      <td>[United States]</td>\n",
       "    </tr>\n",
       "    <tr>\n",
       "      <th>2</th>\n",
       "      <td>2016</td>\n",
       "      <td>Kevin Durant</td>\n",
       "      <td>SF</td>\n",
       "      <td>6-9</td>\n",
       "      <td>240</td>\n",
       "      <td>Golden State Warriors</td>\n",
       "      <td>Western All-Star Fan Vote Selection</td>\n",
       "      <td>2007 Rnd 1 Pick 2</td>\n",
       "      <td>[United States]</td>\n",
       "    </tr>\n",
       "    <tr>\n",
       "      <th>3</th>\n",
       "      <td>2016</td>\n",
       "      <td>Kawhi Leonard</td>\n",
       "      <td>F</td>\n",
       "      <td>6-7</td>\n",
       "      <td>230</td>\n",
       "      <td>San Antonio Spurs</td>\n",
       "      <td>Western All-Star Fan Vote Selection</td>\n",
       "      <td>2011 Rnd 1 Pick 15</td>\n",
       "      <td>[United States]</td>\n",
       "    </tr>\n",
       "    <tr>\n",
       "      <th>4</th>\n",
       "      <td>2016</td>\n",
       "      <td>Anthony Davis</td>\n",
       "      <td>PF</td>\n",
       "      <td>6-11</td>\n",
       "      <td>253</td>\n",
       "      <td>New Orleans Pelicans</td>\n",
       "      <td>Western All-Star Fan Vote Selection</td>\n",
       "      <td>2012 Rnd 1 Pick 1</td>\n",
       "      <td>[United States]</td>\n",
       "    </tr>\n",
       "  </tbody>\n",
       "</table>\n",
       "</div>"
      ],
      "text/plain": [
       "   year         player pos    ht   wt                   team  \\\n",
       "0  2016  Stephen Curry   G   6-3  190  Golden State Warriors   \n",
       "1  2016   James Harden  SG   6-5  220        Houston Rockets   \n",
       "2  2016   Kevin Durant  SF   6-9  240  Golden State Warriors   \n",
       "3  2016  Kawhi Leonard   F   6-7  230      San Antonio Spurs   \n",
       "4  2016  Anthony Davis  PF  6-11  253   New Orleans Pelicans   \n",
       "\n",
       "                        selection_type    nba_draft_status      nationality  \n",
       "0  Western All-Star Fan Vote Selection   2009 Rnd 1 Pick 7  [United States]  \n",
       "1  Western All-Star Fan Vote Selection   2009 Rnd 1 Pick 3  [United States]  \n",
       "2  Western All-Star Fan Vote Selection   2007 Rnd 1 Pick 2  [United States]  \n",
       "3  Western All-Star Fan Vote Selection  2011 Rnd 1 Pick 15  [United States]  \n",
       "4  Western All-Star Fan Vote Selection   2012 Rnd 1 Pick 1  [United States]  "
      ]
     },
     "execution_count": 19,
     "metadata": {},
     "output_type": "execute_result"
    }
   ],
   "source": [
    "df = df1\n",
    "df.head()"
   ]
  },
  {
   "cell_type": "code",
   "execution_count": 20,
   "metadata": {
    "scrolled": true
   },
   "outputs": [
    {
     "data": {
      "text/plain": [
       "year                object\n",
       "player              object\n",
       "pos                 object\n",
       "ht                  object\n",
       "wt                  object\n",
       "team                object\n",
       "selection_type      object\n",
       "nba_draft_status    object\n",
       "nationality         object\n",
       "dtype: object"
      ]
     },
     "execution_count": 20,
     "metadata": {},
     "output_type": "execute_result"
    }
   ],
   "source": [
    "df.dtypes"
   ]
  },
  {
   "cell_type": "markdown",
   "metadata": {},
   "source": [
    "# How often are the Western All-Stars voted in by fans?"
   ]
  },
  {
   "cell_type": "code",
   "execution_count": 21,
   "metadata": {},
   "outputs": [
    {
     "name": "stdout",
     "output_type": "stream",
     "text": [
      "19.36% of players are the Western All-Stars voted by fans.\n"
     ]
    }
   ],
   "source": [
    "# Western All-Star Fan Vote Selection\n",
    "overall_percent = len(df.query('selection_type == \"Western All-Star Fan Vote Selection\"'))/len(df)*100\n",
    "print(f'{round(overall_percent, 2)}% of players are the Western All-Stars voted by fans.')"
   ]
  },
  {
   "cell_type": "markdown",
   "metadata": {},
   "source": [
    "# How many times does Steph Curry make the All-Star game during this time period?"
   ]
  },
  {
   "cell_type": "code",
   "execution_count": 22,
   "metadata": {},
   "outputs": [
    {
     "name": "stdout",
     "output_type": "stream",
     "text": [
      "Steph Curry has made the All-Star games 4 times from 2000 to 2016.\n"
     ]
    }
   ],
   "source": [
    "total_years = 17\n",
    "steph_years = df.query('player == \"Stephen Curry\"')\n",
    "print(f'Steph Curry has made the All-Star games {len(steph_years)} times from 2000 to 2016.')"
   ]
  },
  {
   "cell_type": "markdown",
   "metadata": {},
   "source": [
    "# How many Shooting Gaurds have made the All-Star game during this time?"
   ]
  },
  {
   "cell_type": "code",
   "execution_count": 23,
   "metadata": {},
   "outputs": [
    {
     "name": "stdout",
     "output_type": "stream",
     "text": [
      "57 Shooting Gaurds have made the All-Star games from 2000 to 2016.\n"
     ]
    }
   ],
   "source": [
    "sg = len(df.query('pos ==\"SG\"'))\n",
    "print(f'{sg} Shooting Gaurds have made the All-Star games from 2000 to 2016.')"
   ]
  },
  {
   "cell_type": "markdown",
   "metadata": {},
   "source": [
    "# How many Chicago Bulls players have made the All-Star Game during this time period?"
   ]
  },
  {
   "cell_type": "code",
   "execution_count": 35,
   "metadata": {},
   "outputs": [
    {
     "data": {
      "text/plain": [
       "{'Derrick Rose', 'Jimmy Butler', 'Joakim Noah', 'Luol Deng', 'Pau Gasol'}"
      ]
     },
     "execution_count": 35,
     "metadata": {},
     "output_type": "execute_result"
    }
   ],
   "source": [
    "set(df.query('team == \"Chicago Bulls\"').player)"
   ]
  },
  {
   "cell_type": "code",
   "execution_count": 34,
   "metadata": {},
   "outputs": [
    {
     "name": "stdout",
     "output_type": "stream",
     "text": [
      "5 players from the Chicago Bulls have made the All-Star games from 2000 to 2016.\n"
     ]
    }
   ],
   "source": [
    "bulls = len(set(df.query('team == \"Chicago Bulls\"').player))\n",
    "print(f'{bulls} players from the Chicago Bulls have made the All-Star games from 2000 to 2016.')"
   ]
  },
  {
   "cell_type": "code",
   "execution_count": null,
   "metadata": {},
   "outputs": [],
   "source": []
  }
 ],
 "metadata": {
  "kernelspec": {
   "display_name": "Python 3",
   "language": "python",
   "name": "python3"
  },
  "language_info": {
   "codemirror_mode": {
    "name": "ipython",
    "version": 3
   },
   "file_extension": ".py",
   "mimetype": "text/x-python",
   "name": "python",
   "nbconvert_exporter": "python",
   "pygments_lexer": "ipython3",
   "version": "3.8.1"
  }
 },
 "nbformat": 4,
 "nbformat_minor": 2
}
